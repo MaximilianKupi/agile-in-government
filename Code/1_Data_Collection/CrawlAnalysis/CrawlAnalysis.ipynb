{
 "cells": [
  {
   "cell_type": "code",
   "execution_count": 1,
   "metadata": {},
   "outputs": [],
   "source": [
    "import pandas as pd \n"
   ]
  },
  {
   "cell_type": "code",
   "execution_count": 3,
   "metadata": {},
   "outputs": [],
   "source": [
    "df_General = pd.read_csv(\"/Users/mxm/Google Drive/Masterstudium/Inhalte/Master Thesis/GitHubRepo/agile-in-government/Code/1_Data_Collection/DATA/CSVs/UK/agile_sites_output_UK_General.csv\")"
   ]
  },
  {
   "cell_type": "code",
   "execution_count": 7,
   "metadata": {},
   "outputs": [],
   "source": [
    "df_General_after = pd.read_csv(\"/Users/mxm/Google Drive/Masterstudium/Inhalte/Master Thesis/GitHubRepo/agile-in-government/Code/2_Data_Preprocessing/DATA/CSVs/UK/General.csv\")"
   ]
  },
  {
   "cell_type": "code",
   "execution_count": 16,
   "metadata": {},
   "outputs": [
    {
     "output_type": "execute_result",
     "data": {
      "text/plain": "165368"
     },
     "metadata": {},
     "execution_count": 16
    }
   ],
   "source": [
    "129+229+70542+168+199+36+63+3+112+166+59289+33043+20+30+11+1328"
   ]
  },
  {
   "cell_type": "code",
   "execution_count": 2,
   "metadata": {},
   "outputs": [],
   "source": [
    "df_General_cleaned_org = pd.read_csv(\"/Users/mxm/Google Drive/Masterstudium/Inhalte/Master Thesis/GitHubRepo/agile-in-government/Code/2_Data_Preprocessing/DATA/CSVs/UK/General_cleaned_org.csv\")"
   ]
  },
  {
   "cell_type": "code",
   "execution_count": 4,
   "metadata": {},
   "outputs": [],
   "source": [
    "df_Germany_combined = pd.read_csv(\"/Users/mxm/Google Drive/Masterstudium/Inhalte/Master Thesis/GitHubRepo/agile-in-government/Code/2_Data_Preprocessing/DATA/CSVs/Germany/Combined.csv\")"
   ]
  },
  {
   "cell_type": "code",
   "execution_count": 5,
   "metadata": {},
   "outputs": [],
   "source": [
    "df_Germany_combined_cleaned = pd.read_csv(\"/Users/mxm/Google Drive/Masterstudium/Inhalte/Master Thesis/GitHubRepo/agile-in-government/Code/2_Data_Preprocessing/DATA/CSVs/Germany/Combined_cleaned.csv\")"
   ]
  },
  {
   "cell_type": "code",
   "execution_count": null,
   "metadata": {},
   "outputs": [],
   "source": [
    "# Statewise"
   ]
  },
  {
   "cell_type": "code",
   "execution_count": 17,
   "metadata": {},
   "outputs": [],
   "source": [
    "state_list = [\"Federal_org\", \"Schleswig-Holstein\",\"Bremen\",\"Hamburg\",\"Lower Saxony\",\"Thuringia\",\"Saxony-Anhalt\",\"Saxony\",\"Mecklenburg-Vorpommern\",\"Berlin\",\"Brandenburg\",\"North Rhine-Westphalia\",\"Rhineland-Palatinate\",\"Saarland\" ,\"Hesse\" ,\"Bavaria\",\"Baden-Wuerttemberg\"]\n",
    "\n",
    "df_g_Federal = pd.read_csv(\"/Users/mxm/Google Drive/Masterstudium/Inhalte/Master Thesis/GitHubRepo/agile-in-government/Code/1_Data_Collection/DATA/CSVs/Germany/agile_sites_output_Germany_Federal.csv\")\n",
    "df_g_Schleswig_Holstein = pd.read_csv(\"/Users/mxm/Google Drive/Masterstudium/Inhalte/Master Thesis/GitHubRepo/agile-in-government/Code/1_Data_Collection/DATA/CSVs/Germany/agile_sites_output_Germany_Schleswig-Holstein.csv\")\n",
    "df_g_Bremen = pd.read_csv(\"/Users/mxm/Google Drive/Masterstudium/Inhalte/Master Thesis/GitHubRepo/agile-in-government/Code/1_Data_Collection/DATA/CSVs/Germany/agile_sites_output_Germany_Bremen.csv\")\n",
    "df_g_Hamburg = pd.read_csv(\"/Users/mxm/Google Drive/Masterstudium/Inhalte/Master Thesis/GitHubRepo/agile-in-government/Code/1_Data_Collection/DATA/CSVs/Germany/agile_sites_output_Germany_Hamburg.csv\")\n",
    "#df_g_Lower_Saxony = pd.read_csv(\"/Users/mxm/Google Drive/Masterstudium/Inhalte/Master Thesis/GitHubRepo/agile-in-government/Analysis/1_Data_Collection/DATA/CSVs/Germany/agile_sites_output_Germany_Lower Saxony.csv\")\n",
    "df_g_Thuringia = pd.read_csv(\"/Users/mxm/Google Drive/Masterstudium/Inhalte/Master Thesis/GitHubRepo/agile-in-government/Code/1_Data_Collection/DATA/CSVs/Germany/agile_sites_output_Germany_Thuringia.csv\")\n",
    "df_g_Saxony_Anhalt = pd.read_csv(\"/Users/mxm/Google Drive/Masterstudium/Inhalte/Master Thesis/GitHubRepo/agile-in-government/Code/1_Data_Collection/DATA/CSVs/Germany/agile_sites_output_Germany_Saxony-Anhalt.csv\")\n",
    "df_g_Saxony = pd.read_csv(\"/Users/mxm/Google Drive/Masterstudium/Inhalte/Master Thesis/GitHubRepo/agile-in-government/Code/1_Data_Collection/DATA/CSVs/Germany/agile_sites_output_Germany_Saxony.csv\")\n",
    "df_g_Mecklenburg_Vorpommern = pd.read_csv(\"/Users/mxm/Google Drive/Masterstudium/Inhalte/Master Thesis/GitHubRepo/agile-in-government/Code/1_Data_Collection/DATA/CSVs/Germany/agile_sites_output_Germany_Mecklenburg-Vorpommern.csv\")\n",
    "df_g_Berlin = pd.read_csv(\"/Users/mxm/Google Drive/Masterstudium/Inhalte/Master Thesis/GitHubRepo/agile-in-government/Code/1_Data_Collection/DATA/CSVs/Germany/agile_sites_output_Germany_Berlin.csv\")\n",
    "df_g_Brandenburg = pd.read_csv(\"/Users/mxm/Google Drive/Masterstudium/Inhalte/Master Thesis/GitHubRepo/agile-in-government/Code/1_Data_Collection/DATA/CSVs/Germany/agile_sites_output_Germany_Brandenburg.csv\")\n",
    "df_g_North_Rhine_Westphalia = pd.read_csv(\"/Users/mxm/Google Drive/Masterstudium/Inhalte/Master Thesis/GitHubRepo/agile-in-government/Code/1_Data_Collection/DATA/CSVs/Germany/agile_sites_output_Germany_North Rhine-Westphalia.csv\")\n",
    "df_g_Rhineland_Palatinate = pd.read_csv(\"/Users/mxm/Google Drive/Masterstudium/Inhalte/Master Thesis/GitHubRepo/agile-in-government/Code/1_Data_Collection/DATA/CSVs/Germany/agile_sites_output_Germany_Rhineland-Palatinate.csv\")\n",
    "df_g_Saarland = pd.read_csv(\"/Users/mxm/Google Drive/Masterstudium/Inhalte/Master Thesis/GitHubRepo/agile-in-government/Code/1_Data_Collection/DATA/CSVs/Germany/agile_sites_output_Germany_Saarland.csv\")\n",
    "df_g_Hesse = pd.read_csv(\"/Users/mxm/Google Drive/Masterstudium/Inhalte/Master Thesis/GitHubRepo/agile-in-government/Code/1_Data_Collection/DATA/CSVs/Germany/agile_sites_output_Germany_Hesse.csv\")\n",
    "df_g_Bavaria = pd.read_csv(\"/Users/mxm/Google Drive/Masterstudium/Inhalte/Master Thesis/GitHubRepo/agile-in-government/Code/1_Data_Collection/DATA/CSVs/Germany/agile_sites_output_Germany_Bavaria.csv\")\n",
    "df_g_Baden_Wuerttemberg = pd.read_csv(\"/Users/mxm/Google Drive/Masterstudium/Inhalte/Master Thesis/GitHubRepo/agile-in-government/Code/1_Data_Collection/DATA/CSVs/Germany/agile_sites_output_Germany_Baden-Wuerttemberg.csv\")"
   ]
  },
  {
   "cell_type": "code",
   "execution_count": 40,
   "metadata": {},
   "outputs": [],
   "source": [
    "#checking which cases got deleted\n",
    "\n",
    "df_General.columns = [\"id\", 'url', 'domain', 'date1', 'date2', 'date3', 'heading']\n",
    "df = df_General\n",
    "df2 = df_General_after\n",
    "\n",
    "# all common url\n",
    "s1 = df.merge(df2, how='inner', on=['id', 'url'])\n",
    "\n",
    "# left join \n",
    "s2 = df.merge(df2, how='left', on=['id', 'url'], indicator=True)\n",
    "\n",
    "s2_left = s2[s2['_merge'] == \"left_only\"]\n",
    "\n",
    "# right join \n",
    "s3 = pd.merge(df[['url']], df2, how='right', on=['url'], indicator=True)\n",
    "\n",
    "s2_right = s3[s3['_merge'] == \"right_only\"]\n",
    "\n"
   ]
  },
  {
   "cell_type": "code",
   "execution_count": null,
   "metadata": {},
   "outputs": [],
   "source": []
  }
 ],
 "metadata": {
  "language_info": {
   "codemirror_mode": {
    "name": "ipython",
    "version": 3
   },
   "file_extension": ".py",
   "mimetype": "text/x-python",
   "name": "python",
   "nbconvert_exporter": "python",
   "pygments_lexer": "ipython3",
   "version": "3.7.6-final"
  },
  "orig_nbformat": 2,
  "kernelspec": {
   "name": "python37664bitscraperv1condac67eee00092f451cb06b7dadff488d14",
   "display_name": "Python 3.7.6 64-bit ('Scraper_v1': conda)"
  }
 },
 "nbformat": 4,
 "nbformat_minor": 2
}